{
 "cells": [
  {
   "cell_type": "code",
   "execution_count": 8,
   "metadata": {
    "collapsed": false
   },
   "outputs": [
    {
     "data": {
      "text/plain": [
       "True"
      ]
     },
     "execution_count": 8,
     "metadata": {},
     "output_type": "execute_result"
    },
    {
     "data": {
      "image/png": "[encoded data removed]",
      "text/plain": [
       "<matplotlib.figure.Figure at 0x105cbf320>"
      ]
     },
     "metadata": {},
     "output_type": "display_data"
    }
   ],
   "source": [
    "%matplotlib inline\n",
    "import cv2, matplotlib\n",
    "import numpy as np\n",
    "import matplotlib.pyplot as plt\n",
    "\n",
    "img = cv2.imread('penguin.jpg')\n",
    "# print(img)\n",
    "\n",
    "img = cv2.cvtColor(img, cv2.COLOR_BGR2RGB)\n",
    "\n",
    "# plt.imshow(img)\n",
    "# plt.show()\n",
    "\n",
    "gray_img = cv2.cvtColor(img, cv2.COLOR_RGB2GRAY)\n",
    "\n",
    "# print(gray_img)\n",
    "\n",
    "# plt.imshow(gray_img)\n",
    "# plt.show()\n",
    "\n",
    "img_preprocessed  = cv2.cvtColor(cv2.GaussianBlur(img, (7,7), 0), cv2.COLOR_RGB2GRAY)\n",
    "# type(img_preprocessed)\n",
    "\n",
    "_, img_thresh = cv2.threshold(img_preprocessed, 80, 255, cv2.THRESH_BINARY)\n",
    "\n",
    "# plt.imshow(cv2.cvtColor(img_thresh, cv2.COLOR_GRAY2RGB))\n",
    "\n",
    "img_edges = cv2.Canny(img_preprocessed, threshold1=90, threshold2=110)\n",
    "plt.imshow(cv2.cvtColor(img_edges, cv2.COLOR_GRAY2RGB))\n",
    "cv2.imwrite('cups-edges.jpg', img_edges)"
   ]
  },
  {
   "cell_type": "code",
   "execution_count": 2,
   "metadata": {
    "collapsed": false
   },
   "outputs": [
    {
     "data": {
      "text/plain": [
       "numpy.ndarray"
      ]
     },
     "execution_count": 2,
     "metadata": {},
     "output_type": "execute_result"
    }
   ],
   "source": [
    "type(gray_img)"
   ]
  }
 ],
 "metadata": {
  "kernelspec": {
   "display_name": "Python [Root]",
   "language": "python",
   "name": "Python [Root]"
  },
  "language_info": {
   "codemirror_mode": {
    "name": "ipython",
    "version": 3
   },
   "file_extension": ".py",
   "mimetype": "text/x-python",
   "name": "python",
   "nbconvert_exporter": "python",
   "pygments_lexer": "ipython3",
   "version": "3.5.2"
  }
 },
 "nbformat": 4,
 "nbformat_minor": 0
}
