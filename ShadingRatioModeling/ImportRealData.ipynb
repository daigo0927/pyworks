{
 "cells": [
  {
   "cell_type": "markdown",
   "metadata": {},
   "source": [
    "# 町田市周辺の遮光率の算出\n",
    "- 雲天による遮光率の実データの整形\n",
    "    - 遮光率１：完全に雲\n",
    "    - 遮光率０：晴天\n",
    "- $\\text{遮光率} = 1 - \\frac{\\text{全天日射量}}{\\text{大気外日射量}}$\n",
    "- 全天日射量は実データが存在する．CropTotalRadiation.pyによって対象領域（町田市周辺）のデータを抜き出す．\n",
    "- 大気外日射量は日付と時刻によって算出される．OuterRadiation.pyによってこれを算出する．\n",
    "- 対象領域（$30\\times30$のグリッド）\n",
    "    - 北緯 : 35.405° - 35.695°\n",
    "    - 東経 : 139.245° - 139.535°\n",
    "    - 時刻：2016年8月20日10時−12時の二時間\n",
    "        - ２分半ごとにデータが存在するため，計49フレームを保持する．"
   ]
  },
  {
   "cell_type": "code",
   "execution_count": 38,
   "metadata": {
    "collapsed": false
   },
   "outputs": [
    {
     "name": "stdout",
     "output_type": "stream",
     "text": [
      "The autoreload extension is already loaded. To reload it, use:\n",
      "  %reload_ext autoreload\n"
     ]
    }
   ],
   "source": [
    "%load_ext autoreload\n",
    "%autoreload 2\n",
    "%matplotlib inline \n",
    "\n",
    "import sys, os\n",
    "sys.path.append(os.pardir)\n",
    "import pickle\n",
    "import numpy as np\n",
    "import matplotlib.pyplot as plt\n",
    "import seaborn as sns\n",
    "from PIL import Image\n",
    "import pdb\n",
    "import time\n",
    "from tqdm import tqdm\n",
    "from Slackutil.SendMessage import SendMessage\n",
    "\n",
    "from FixData.OuterRadiation import OuterRadiation\n",
    "from FixData.CropTotalRadiation import CropTotalRadiation\n"
   ]
  },
  {
   "cell_type": "code",
   "execution_count": 17,
   "metadata": {
    "collapsed": true
   },
   "outputs": [],
   "source": [
    "# target area : 30*30 square around Machida city\n",
    "# N : 35.405 - 35.695\n",
    "# E : 139.245 - 139.535\n",
    "latitude = np.arange(start = 35.405, stop = 35.705, step = 0.01)\n",
    "longitude = np.arange(start = 139.245, stop = 139.545, step = 0.01)\n",
    "start_date = np.array([2016, 8, 20, 10, 0])\n",
    "end_date = np.array([2016, 8, 20, 12, 0])\n",
    "\n",
    "outer = OuterRadiation(latitude = latitude,\n",
    "                      longitude = longitude,\n",
    "                      date = start_date)\n",
    "crop = CropTotalRadiation(latitude = latitude,\n",
    "                         longitude = longitude,\n",
    "                         start_date = start_date,\n",
    "                         end_date = end_date)"
   ]
  },
  {
   "cell_type": "code",
   "execution_count": 23,
   "metadata": {
    "collapsed": false
   },
   "outputs": [],
   "source": [
    "OuterResult = outer.compute(number=49)"
   ]
  },
  {
   "cell_type": "code",
   "execution_count": 28,
   "metadata": {
    "collapsed": false
   },
   "outputs": [],
   "source": [
    "CropResult = crop.Crop()"
   ]
  },
  {
   "cell_type": "code",
   "execution_count": 44,
   "metadata": {
    "collapsed": false
   },
   "outputs": [],
   "source": [
    "ShadeRatio = 1. - CropResult / np.array(OuterResult)"
   ]
  },
  {
   "cell_type": "code",
   "execution_count": 45,
   "metadata": {
    "collapsed": false
   },
   "outputs": [
    {
     "data": {
      "text/plain": [
       "(49, 30, 30)"
      ]
     },
     "execution_count": 45,
     "metadata": {},
     "output_type": "execute_result"
    }
   ],
   "source": [
    "ShadeRatio.shape"
   ]
  },
  {
   "cell_type": "code",
   "execution_count": 47,
   "metadata": {
    "collapsed": true
   },
   "outputs": [],
   "source": [
    "with open('/Users/Daigo/Data/ShadeRatio/Machida2h/OuterResult.pkl', 'wb') as f:\n",
    "    pickle.dump(OuterResult, f)\n",
    "with open('/Users/Daigo/Data/ShadeRatio/Machida2h/CropResult.pkl', 'wb') as f:\n",
    "    pickle.dump(CropResult, f)\n",
    "with open('/Users/Daigo/Data/ShadeRatio/Machida2h/ShadeRatio.pkl', 'wb') as f:\n",
    "    pickle.dump(ShadeRatio, f)"
   ]
  },
  {
   "cell_type": "code",
   "execution_count": 54,
   "metadata": {
    "collapsed": false
   },
   "outputs": [
    {
     "data": {
      "image/png": "[encoded data removed]",
      "text/plain": [
       "<matplotlib.figure.Figure at 0x1289cccc0>"
      ]
     },
     "metadata": {},
     "output_type": "display_data"
    }
   ],
   "source": [
    "sns.heatmap(ShadeRatio[20], annot=False, \n",
    "            vmin = 0, vmax = 1,\n",
    "            fmt='g', cmap = 'Oranges')\n",
    "sns.plt.show()"
   ]
  },
  {
   "cell_type": "code",
   "execution_count": 65,
   "metadata": {
    "collapsed": false
   },
   "outputs": [
    {
     "name": "stdout",
     "output_type": "stream",
     "text": [
      "[master 7ba3a99] little faster ?\n",
      " 1 file changed, 135 insertions(+), 403 deletions(-)\n",
      "Counting objects: 4, done.\n",
      "Delta compression using up to 4 threads.\n",
      "Compressing objects: 100% (4/4), done.\n",
      "Writing objects: 100% (4/4), 396.83 KiB | 0 bytes/s, done.\n",
      "Total 4 (delta 3), reused 0 (delta 0)\n",
      "remote: Resolving deltas: 100% (3/3), completed with 3 local objects.\u001b[K\n",
      "To https://github.com/daigo0927/pyworks\n",
      "   d4c39f8..7ba3a99  master -> master\n"
     ]
    }
   ],
   "source": [
    "! git add ImportRe\n",
    "! git commit -m 'little faster ?'\n",
    "! git push"
   ]
  }
 ],
 "metadata": {
  "anaconda-cloud": {},
  "kernelspec": {
   "display_name": "Python [Root]",
   "language": "python",
   "name": "Python [Root]"
  },
  "language_info": {
   "codemirror_mode": {
    "name": "ipython",
    "version": 3
   },
   "file_extension": ".py",
   "mimetype": "text/x-python",
   "name": "python",
   "nbconvert_exporter": "python",
   "pygments_lexer": "ipython3",
   "version": "3.5.2"
  }
 },
 "nbformat": 4,
 "nbformat_minor": 0
}
