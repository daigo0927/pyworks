{
 "cells": [
  {
   "cell_type": "markdown",
   "metadata": {},
   "source": [
    "# 雲天による遮光率のモデリング\n",
    "- 雲は日光を遮る．衛星画像によって遮光率の値が分かっていると仮定しこれを統計モデルによって再現する．\n",
    "    - 遮光率１：完全に雲\n",
    "    - 遮光率０：晴天\n",
    "- 1次元の疑似データを生成する\n",
    "    - 混合数 3\n",
    "    - ガウス分布の平均・分散パラメータ $\\mu = \\{2, 5, 8\\} , \\sigma^{2} = \\{1, 1, 1\\}$\n",
    "    - 混合比 $\\pi = \\{0.3, 0.5, 0.2\\}$\n",
    "    - シグモイド係数　$a, b$ \n",
    "        - $\\mathrm{sigmoid}(z) = \\frac{1}{1+\\exp{(-z)}}, z=ax +b$\n",
    "    - 疑似データ $f(x) = u\\left( \\sum_{i} \\pi_{i}\\mathcal{N}(x ; \\mu_{i}, \\sigma_{i}^{2}) \\right), u(x) = \\mathrm{sigmoid(x)}$\n",
    "- ガウス混合分布に対してシグモイド関数による変換を施すことで値を[0, 1]に収める\n",
    "- 推定の設定\n",
    "    - ガウス分布の混合数は既知とする\n",
    "- 推定パラメータ\n",
    "    - ガウス分布の平均・分散パラメータ　$ \\mu, \\sigma$\n",
    "    - 混合比の重み $\\pi$\n",
    "    - シグモイドの係数 $a, b$"
   ]
  },
  {
   "cell_type": "code",
   "execution_count": 1,
   "metadata": {
    "collapsed": true
   },
   "outputs": [],
   "source": [
    "import numpy as np\n",
    "import matplotlib.pyplot as plt\n",
    "import itertools\n",
    "from PIL import Image\n",
    "\n",
    "%matplotlib inline "
   ]
  },
  {
   "cell_type": "code",
   "execution_count": 74,
   "metadata": {
    "collapsed": false
   },
   "outputs": [
    {
     "data": {
      "image/png": "[encoded data removed]",
      "text/plain": [
       "<matplotlib.figure.Figure at 0x108f65128>"
      ]
     },
     "metadata": {},
     "output_type": "display_data"
    },
    {
     "data": {
      "image/png": "[encoded data removed]",
      "text/plain": [
       "<matplotlib.figure.Figure at 0x108fb8550>"
      ]
     },
     "metadata": {},
     "output_type": "display_data"
    },
    {
     "name": "stdout",
     "output_type": "stream",
     "text": [
      "[[ 0.          0.01        0.02        0.03        0.04      ]\n",
      " [ 0.0114296   0.01155321  0.01168001  0.01181011  0.01194359]]\n"
     ]
    }
   ],
   "source": [
    "# generate 1-dimensional artificial data\n",
    "x = np.arange(0, 10, 0.01)\n",
    "\n",
    "# true parameter value\n",
    "muTrue = np.array([2, 5, 8])\n",
    "sigmaTrue = np.array([1,1,1])\n",
    "piTrue = np.array([0.2, 0.5, 0.3])\n",
    "aTrue = 50\n",
    "bTrue = -5\n",
    "\n",
    "# normal distribution density\n",
    "def dnorm(x, mu, sigma):\n",
    "    return((1/np.sqrt(2*np.pi*sigma**2)) * np.exp(-(x-mu)**2/(2*sigma**2)))\n",
    "\n",
    "plt.subplot(121)\n",
    "plt.plot(x, dnorm(x, 5, 1))\n",
    "plt.title('Gaussian distribution')\n",
    "\n",
    "# Gaussian Mixture density\n",
    "def dnorm_Mixture(x, mu, sigma, pi):\n",
    "    values = dnorm(x, mu, sigma)\n",
    "    return(sum(pi*values))\n",
    "\n",
    "y = []\n",
    "for i in x:\n",
    "    y.append(dnorm_Mixture(i, mu=muTrue, sigma = sigmaTrue, pi = piTrue))\n",
    "    \n",
    "plt.subplot(122)\n",
    "plt.plot(x,  y)\n",
    "plt.title('Gaussian Mixture')\n",
    "plt.show()\n",
    "\n",
    "# logistic sigmoid function\n",
    "def sigmoid(z):\n",
    "    return(1/(1+np.exp(-z)))\n",
    "\n",
    "# shading ratio model\n",
    "def ShadeModel(x, mu, sigma, pi, a, b):\n",
    "    z = a * dnorm_Mixture(x, mu, sigma, pi) +b\n",
    "    return(sigmoid(z))\n",
    "\n",
    "y = []\n",
    "for i in x:\n",
    "    y.append(ShadeModel(i, mu=muTrue, sigma=sigmaTrue, pi = piTrue, a=aTrue, b=bTrue))\n",
    "    \n",
    "plt.plot(x, y)\n",
    "plt.title('shading ratio model : artificial data')\n",
    "plt.show()\n",
    "\n",
    "# generate artificial data\n",
    "data = np.vstack((x, y))\n",
    "print(data[:,0:5])"
   ]
  },
  {
   "cell_type": "code",
   "execution_count": 172,
   "metadata": {
    "collapsed": false
   },
   "outputs": [],
   "source": [
    "# initialize parameters to be estimated\n",
    "muInit = np.array([3,5,7])\n",
    "sigmaInit = np.array([5,5,5])\n",
    "piInit = np.array([0.33, 0.33, 0.33])\n",
    "aInit = 1\n",
    "bInit = 1\n",
    "\n",
    "# descrepancy function : Bregman divergence\n",
    "def Bregman_divergence(x, f, mu, sigma, pi, a, b):\n",
    "    q = []\n",
    "    for i in x:\n",
    "        q.append(ShadeModel(x = i, mu =mu, sigma=sigma, pi = pi, a=a, b=b))\n",
    "    q = np.array(q)\n",
    "\n",
    "    descrepancy = 1/a * np.log((1-f)/(1-q)) - (1-f)/a *(np.log(q*(1-f)/(f*(1-q))))\n",
    "    return(np.mean(descrepancy))\n",
    "\n",
    "# Gradiend descent\n",
    "def GradientDescent(parameter, LearningRate, gradient):\n",
    "    newparameter = parameter - LearningRate *gradient\n",
    "    return(newparameter)\n",
    "\n"
   ]
  },
  {
   "cell_type": "code",
   "execution_count": 182,
   "metadata": {
    "collapsed": false
   },
   "outputs": [
    {
     "name": "stdout",
     "output_type": "stream",
     "text": [
      "[ 0.98731011  2.43680447  7.57083141] [  4.45045982   8.55230357  10.28562822] [ 0.19899768  0.49909734  0.29918601] -0.235587811862 1.84450255236\n",
      "[ 0.97569785  2.43151543  7.57152291] [  4.44789821   8.56198982  10.29086631] [ 0.17644803  0.4784887   0.28046404] -18.4008981497 2.10170314394\n",
      "[ 0.96442918  2.42593229  7.57240217] [  4.44644624   8.57312333  10.29653027] [ 0.14816944  0.45370632  0.25821062] -18.4536071612 2.41809557295\n",
      "[ 0.95427944  2.42014159  7.57343709] [  4.44597029   8.58552565  10.30245946] [ 0.11372162  0.4244626   0.23218469] -18.4974746916 2.79055985706\n",
      "[ 0.94634639  2.41435305  7.57452803] [  4.44603989   8.59851438  10.30829191] [ 0.07416279  0.39152878  0.20302606] -18.5311043473 3.20941683408\n"
     ]
    },
    {
     "data": {
      "image/png": "[encoded data removed]",
      "text/plain": [
       "<matplotlib.figure.Figure at 0x1088f3cc0>"
      ]
     },
     "metadata": {},
     "output_type": "display_data"
    }
   ],
   "source": [
    "# iteration time\n",
    "iterate = range(100)\n",
    "mu = muInit\n",
    "sigma = sigmaInit\n",
    "pi = piTrue\n",
    "a = aInit\n",
    "b = bInit\n",
    "\n",
    "# little value for numerical defferentiation\n",
    "h = 1e-4\n",
    "\n",
    "for i in iterate:\n",
    "    # learning rate : 1/t anealed\n",
    "    EtaMu = 1\n",
    "    EtaSigma = 1\n",
    "    EtaPi = 0.1\n",
    "    EtaA = 1\n",
    "    EtaB = 1\n",
    "    \n",
    "    \n",
    "    # update mu\n",
    "    grad = np.zeros(len(mu))\n",
    "    for idx in range(len(mu)):\n",
    "        tmp = mu[idx]\n",
    "        mu[idx] = tmp+h\n",
    "        Divf = Bregman_divergence(x = data[0, : ], f = data[1,: ], mu=mu, sigma=sigma, pi = pi, a = a, b=b)\n",
    "        mu[idx] = tmp-h\n",
    "        Divb = Bregman_divergence(x = data[0, : ], f = data[1,: ], mu=mu, sigma=sigma, pi = pi, a = a, b=b)\n",
    "        grad[idx] = (Divf - Divb)/(2*h)\n",
    "        mu[idx] = tmp\n",
    "    # print(grad)\n",
    "    mu = GradientDescent(parameter=mu, LearningRate=EtaMu, gradient = grad)\n",
    "    \n",
    "    # update sigma\n",
    "    grad = np.zeros(len(sigma))\n",
    "    for idx in range(len(sigma)):\n",
    "        tmp = sigma[idx]\n",
    "        sigma[idx] = tmp +h\n",
    "        Divf = Bregman_divergence(x = data[0, : ], f = data[1,: ], mu=mu, sigma=sigma, pi = pi, a = a, b=b)\n",
    "        sigma[idx] = tmp -h\n",
    "        Divb = Bregman_divergence(x = data[0, : ], f = data[1,: ], mu=mu, sigma=sigma, pi = pi, a = a, b=b)\n",
    "        grad[idx] = (Divf - Divb)/(2*h)\n",
    "        sigma[idx] = tmp\n",
    "    sigma = GradientDescent(parameter=sigma, LearningRate=EtaSigma, gradient=grad)\n",
    "    \n",
    "    # update pi\n",
    "    grad = np.zeros(len(pi))\n",
    "    for idx in range(len(pi)):\n",
    "        tmp = pi[idx]\n",
    "        pi[idx] = tmp+h\n",
    "        Divf = Bregman_divergence(x = data[0, : ], f = data[1,: ], mu=mu, sigma=sigma, pi = pi, a = a, b=b)\n",
    "        pi[idx] = tmp-h\n",
    "        Divb = Bregman_divergence(x = data[0, : ], f = data[1,: ], mu=mu, sigma=sigma, pi = pi, a = a, b=b)\n",
    "        grad[idx] = (Divf - Divb)/(2*h)\n",
    "        pi[idx] = tmp\n",
    "    # print(grad)\n",
    "    pi = GradientDescent(parameter=pi, LearningRate=EtaPi, gradient=grad)\n",
    "    \n",
    "    # update a\n",
    "    Divf = Bregman_divergence(x = data[0, : ], f = data[1,: ], mu=mu, sigma=sigma, pi = pi, a = a+h, b=b)\n",
    "    Divb = Bregman_divergence(x = data[0, : ], f = data[1,: ], mu=mu, sigma=sigma, pi = pi, a = a-h, b=b)\n",
    "    gradient = (Divf - Divb)/(2*h)\n",
    "    # print(gradient)\n",
    "    a = GradientDescent(parameter=a, LearningRate=EtaA, gradient=gradient)\n",
    "    \n",
    "    # update b\n",
    "    Divf = Bregman_divergence(x = data[0, : ], f = data[1,: ], mu=mu, sigma=sigma, pi = pi, a = a, b=b+h)\n",
    "    Divb = Bregman_divergence(x = data[0, : ], f = data[1,: ], mu=mu, sigma=sigma, pi = pi, a = a, b=b-h)\n",
    "    gradient = (Divf - Divb)/(2*h)\n",
    "    # print(gradient)\n",
    "    b = GradientDescent(parameter=b, LearningRate=EtaB, gradient=gradient)\n",
    "    \n",
    "    if(i % 20 ==0):\n",
    "        print(mu, sigma, pi, a, b)\n",
    "        \n",
    "Result = []\n",
    "for i in data[0, :]:\n",
    "    Result.append(ShadeModel(x = i, mu =mu, sigma=sigma, pi = pi, a=a, b=b))\n",
    "    \n",
    "plt.plot(data[0, :], Result)\n",
    "plt.ylim([0, 1])\n",
    "plt.title('shading ratio model : estimation result')\n",
    "plt.show()"
   ]
  },
  {
   "cell_type": "code",
   "execution_count": 106,
   "metadata": {
    "collapsed": false
   },
   "outputs": [],
   "source": [
    "q = []\n",
    "f = data[1, :]\n",
    "\n",
    "for i in x:\n",
    "    q.append(ShadeModel(x = i, mu =mu, sigma=sigma, pi = pi, a=a, b=b))\n",
    "q = np.array(q)\n",
    "descrepancy = 1/a * np.log((1-f)/(1-q)) - (1-f)/a *(np.log(q*(1-f)/(f*(1-q))))\n"
   ]
  },
  {
   "cell_type": "code",
   "execution_count": 166,
   "metadata": {
    "collapsed": false
   },
   "outputs": [
    {
     "name": "stdout",
     "output_type": "stream",
     "text": [
      "[ 0.33  0.33  0.33] 0.01\n",
      "[ 0.34  0.33  0.33]\n",
      "[ 0.32  0.33  0.33]\n",
      "[ 0.33  0.33  0.33]\n"
     ]
    }
   ],
   "source": [
    "idx = 0\n",
    "pi = piInit\n",
    "print(pi, h)\n",
    "tmp = pi[idx]\n",
    "pi[idx] = tmp + h\n",
    "print(pi)\n",
    "pi[idx] = tmp - h\n",
    "print(pi)\n",
    "pi[idx] = tmp\n",
    "print(pi)"
   ]
  },
  {
   "cell_type": "code",
   "execution_count": 171,
   "metadata": {
    "collapsed": false
   },
   "outputs": [
    {
     "data": {
      "text/plain": [
       "0.33000000000000002"
      ]
     },
     "execution_count": 171,
     "metadata": {},
     "output_type": "execute_result"
    }
   ],
   "source": [
    "np.mean(piInit)"
   ]
  }
 ],
 "metadata": {
  "kernelspec": {
   "display_name": "Python [Root]",
   "language": "python",
   "name": "Python [Root]"
  },
  "language_info": {
   "codemirror_mode": {
    "name": "ipython",
    "version": 3
   },
   "file_extension": ".py",
   "mimetype": "text/x-python",
   "name": "python",
   "nbconvert_exporter": "python",
   "pygments_lexer": "ipython3",
   "version": "3.5.2"
  }
 },
 "nbformat": 4,
 "nbformat_minor": 0
}
