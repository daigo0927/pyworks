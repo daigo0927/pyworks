{
 "cells": [
  {
   "cell_type": "markdown",
   "metadata": {
    "deletable": true,
    "editable": true
   },
   "source": [
    "# 雲天による遮光率のモデリング\n",
    "- 雲は日光を遮る．衛星画像によって遮光率の値が分かっていると仮定しこれを統計モデルによって再現する．\n",
    "    - 遮光率１：完全に雲\n",
    "    - 遮光率０：晴天\n",
    "- 1次元の疑似データを生成する\n",
    "    - 混合数 3\n",
    "    - ガウス分布の平均・分散パラメータ $\\mu = \\{2, 5, 8\\} , \\sigma^{2} = \\{1, 1, 1\\}$\n",
    "    - 混合比 $\\pi = \\{0.3, 0.5, 0.2\\}$\n",
    "    - シグモイド係数　$a, b$ \n",
    "        - $\\mathrm{sigmoid}(z) = \\frac{1}{1+\\exp{(-z)}}, z=ax +b$\n",
    "    - 疑似データ $f(x) = u\\left( \\sum_{i} \\pi_{i}\\mathcal{N}(x ; \\mu_{i}, \\sigma_{i}^{2}) \\right), u(x) = \\mathrm{sigmoid(x)}$\n",
    "- ガウス混合分布に対してシグモイド関数による変換を施すことで値を[0, 1]に収める\n",
    "- 推定の設定\n",
    "    - ガウス分布の混合数は既知とする\n",
    "- 推定パラメータ\n",
    "    - ガウス分布の平均・分散パラメータ　$ \\mu, \\sigma$\n",
    "    - 混合比の重み $\\pi$\n",
    "- シグモイドの係数 $a, b$は別の方法で推定した方が良い？"
   ]
  },
  {
   "cell_type": "code",
   "execution_count": 7,
   "metadata": {
    "collapsed": false,
    "deletable": true,
    "editable": true
   },
   "outputs": [
    {
     "name": "stdout",
     "output_type": "stream",
     "text": [
      "The autoreload extension is already loaded. To reload it, use:\n",
      "  %reload_ext autoreload\n"
     ]
    }
   ],
   "source": [
    "%load_ext autoreload\n",
    "%autoreload 2\n",
    "\n",
    "import numpy as np\n",
    "import matplotlib.pyplot as plt\n",
    "import seaborn as sns\n",
    "import pickle\n",
    "\n",
    "from ShadeTrain import ShadeSystem\n",
    "\n",
    "data_dir = '/home/data2/daigo/ShadeRatio/Ota/2016_8_2_9-18/'"
   ]
  },
  {
   "cell_type": "code",
   "execution_count": 8,
   "metadata": {
    "collapsed": false,
    "deletable": true,
    "editable": true
   },
   "outputs": [],
   "source": [
    "with open(data_dir + 'pickles/ShadeRatio.pkl', 'rb') as f:\n",
    "    data = pickle.load(f)"
   ]
  },
  {
   "cell_type": "code",
   "execution_count": 9,
   "metadata": {
    "collapsed": false,
    "deletable": true,
    "editable": true
   },
   "outputs": [
    {
     "data": {
      "text/plain": [
       "(217, 40, 40)"
      ]
     },
     "execution_count": 9,
     "metadata": {},
     "output_type": "execute_result"
    }
   ],
   "source": [
    "data.shape"
   ]
  },
  {
   "cell_type": "code",
   "execution_count": 10,
   "metadata": {
    "collapsed": false,
    "deletable": true,
    "editable": true
   },
   "outputs": [],
   "source": [
    "sys = ShadeSystem(data = data)"
   ]
  },
  {
   "cell_type": "code",
   "execution_count": 1,
   "metadata": {
    "collapsed": false,
    "deletable": true,
    "editable": true
   },
   "outputs": [
    {
     "data": {
      "text/plain": [
       "'\\nsys.fit()\\n'"
      ]
     },
     "execution_count": 1,
     "metadata": {},
     "output_type": "execute_result"
    }
   ],
   "source": [
    "'''\n",
    "sys.fit()\n",
    "'''"
   ]
  },
  {
   "cell_type": "code",
   "execution_count": null,
   "metadata": {
    "collapsed": false,
    "deletable": true,
    "editable": true
   },
   "outputs": [
    {
     "name": "stdout",
     "output_type": "stream",
     "text": [
      "input core number : 8\n"
     ]
    }
   ],
   "source": [
    "sys.TemporalInterpolate(finess = 15)"
   ]
  },
  {
   "cell_type": "code",
   "execution_count": 13,
   "metadata": {
    "collapsed": true,
    "deletable": true,
    "editable": true
   },
   "outputs": [
    {
     "name": "stdout",
     "output_type": "stream",
     "text": [
      "input start date ex ) 2016-1-1-12-0-0 : 2016-8-2-9-0-0\n",
      "input end date ex ) 2016-1-1-18-0-0 : 2016-8-2-18-0-0\n",
      "input core number : 8\n"
     ]
    },
    {
     "name": "stderr",
     "output_type": "stream",
     "text": [
      "/home/lab/daigo/.virtualenvs/python3.5/lib/python3.5/site-packages/matplotlib/font_manager.py:1297: UserWarning: findfont: Font family ['sans-serif'] not found. Falling back to DejaVu Sans\n",
      "  (prop.get_family(), self.defaultFamily[fontext]))\n",
      "/home/lab/daigo/.virtualenvs/python3.5/lib/python3.5/site-packages/matplotlib/font_manager.py:1297: UserWarning: findfont: Font family ['sans-serif'] not found. Falling back to DejaVu Sans\n",
      "  (prop.get_family(), self.defaultFamily[fontext]))\n",
      "/home/lab/daigo/.virtualenvs/python3.5/lib/python3.5/site-packages/matplotlib/font_manager.py:1297: UserWarning: findfont: Font family ['sans-serif'] not found. Falling back to DejaVu Sans\n",
      "  (prop.get_family(), self.defaultFamily[fontext]))\n",
      "/home/lab/daigo/.virtualenvs/python3.5/lib/python3.5/site-packages/matplotlib/font_manager.py:1297: UserWarning: findfont: Font family ['sans-serif'] not found. Falling back to DejaVu Sans\n",
      "  (prop.get_family(), self.defaultFamily[fontext]))\n",
      "/home/lab/daigo/.virtualenvs/python3.5/lib/python3.5/site-packages/matplotlib/font_manager.py:1297: UserWarning: findfont: Font family ['sans-serif'] not found. Falling back to DejaVu Sans\n",
      "  (prop.get_family(), self.defaultFamily[fontext]))\n",
      "/home/lab/daigo/.virtualenvs/python3.5/lib/python3.5/site-packages/matplotlib/font_manager.py:1297: UserWarning: findfont: Font family ['sans-serif'] not found. Falling back to DejaVu Sans\n",
      "  (prop.get_family(), self.defaultFamily[fontext]))\n",
      "/home/lab/daigo/.virtualenvs/python3.5/lib/python3.5/site-packages/matplotlib/font_manager.py:1297: UserWarning: findfont: Font family ['sans-serif'] not found. Falling back to DejaVu Sans\n",
      "  (prop.get_family(), self.defaultFamily[fontext]))\n",
      "/home/lab/daigo/.virtualenvs/python3.5/lib/python3.5/site-packages/matplotlib/font_manager.py:1297: UserWarning: findfont: Font family ['sans-serif'] not found. Falling back to DejaVu Sans\n",
      "  (prop.get_family(), self.defaultFamily[fontext]))\n"
     ]
    }
   ],
   "source": [
    "sys.SaveInterp(path=data_dir + 'ResultStream/')"
   ]
  },
  {
   "cell_type": "code",
   "execution_count": 15,
   "metadata": {
    "collapsed": false
   },
   "outputs": [],
   "source": [
    "with open(data_dir + 'pickles/CompleteRatio.pkl', 'wb') as f:\n",
    "    pickle.dump(sys.CompleteFrames, f)"
   ]
  },
  {
   "cell_type": "code",
   "execution_count": 2,
   "metadata": {
    "collapsed": false,
    "deletable": true,
    "editable": true
   },
   "outputs": [
    {
     "name": "stdout",
     "output_type": "stream",
     "text": [
      "[master ba855cc] hide warning\n",
      " 1 file changed, 299 insertions(+), 7238 deletions(-)\n",
      " rewrite ShadingRatioModeling/training.ipynb (99%)\n",
      "Counting objects: 4, done.\n",
      "Delta compression using up to 4 threads.\n",
      "Compressing objects: 100% (4/4), done.\n",
      "Writing objects: 100% (4/4), 2.88 KiB | 0 bytes/s, done.\n",
      "Total 4 (delta 2), reused 0 (delta 0)\n",
      "remote: Resolving deltas: 100% (2/2), completed with 2 local objects.\u001b[K\n",
      "To https://github.com/daigo0927/pyworks\n",
      "   96471d7..ba855cc  master -> master\n"
     ]
    }
   ],
   "source": [
    "! git add training.ipynb \n",
    "! git commit -m 'hide warning'\n",
    "! git push"
   ]
  }
 ],
 "metadata": {
  "anaconda-cloud": {},
  "kernelspec": {
   "display_name": "Python [Root]",
   "language": "python",
   "name": "Python [Root]"
  },
  "language_info": {
   "codemirror_mode": {
    "name": "ipython",
    "version": 3
   },
   "file_extension": ".py",
   "mimetype": "text/x-python",
   "name": "python",
   "nbconvert_exporter": "python",
   "pygments_lexer": "ipython3",
   "version": "3.5.2"
  }
 },
 "nbformat": 4,
 "nbformat_minor": 0
}
