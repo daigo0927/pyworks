{
 "cells": [
  {
   "cell_type": "markdown",
   "metadata": {},
   "source": [
    "# Visualize NBA match process\n",
    "* NBAの試合データを可視化\n",
    "* event.id：ほぼ時系列と考えて良さそう"
   ]
  },
  {
   "cell_type": "code",
   "execution_count": 18,
   "metadata": {
    "collapsed": true
   },
   "outputs": [],
   "source": [
    "import numpy as np\n",
    "import matplotlib.pyplot as plt\n",
    "import pandas as pd\n",
    "import json\n",
    "% matplotlib inline"
   ]
  },
  {
   "cell_type": "code",
   "execution_count": 3,
   "metadata": {
    "collapsed": false
   },
   "outputs": [],
   "source": [
    "match = pd.read_csv('/Users/Daigo/Data/NBA/SportVU/match.csv')"
   ]
  },
  {
   "cell_type": "code",
   "execution_count": 12,
   "metadata": {
    "collapsed": false
   },
   "outputs": [
    {
     "data": {
      "text/html": [
       "<div>\n",
       "<table border=\"1\" class=\"dataframe\">\n",
       "  <thead>\n",
       "    <tr style=\"text-align: right;\">\n",
       "      <th></th>\n",
       "      <th>player_id</th>\n",
       "      <th>lastname</th>\n",
       "      <th>firstname</th>\n",
       "      <th>jersey</th>\n",
       "      <th>position</th>\n",
       "      <th>team_id</th>\n",
       "      <th>x_loc</th>\n",
       "      <th>y_loc</th>\n",
       "      <th>radius</th>\n",
       "      <th>game_clock</th>\n",
       "      <th>shot_clock</th>\n",
       "      <th>quarter</th>\n",
       "      <th>event.id</th>\n",
       "    </tr>\n",
       "  </thead>\n",
       "  <tbody>\n",
       "    <tr>\n",
       "      <th>0</th>\n",
       "      <td>201567</td>\n",
       "      <td>Love</td>\n",
       "      <td>Kevin</td>\n",
       "      <td>0.0</td>\n",
       "      <td>F</td>\n",
       "      <td>1.610613e+09</td>\n",
       "      <td>36.68877</td>\n",
       "      <td>24.80455</td>\n",
       "      <td>0.0</td>\n",
       "      <td>720.0</td>\n",
       "      <td>24.0</td>\n",
       "      <td>1</td>\n",
       "      <td>1</td>\n",
       "    </tr>\n",
       "    <tr>\n",
       "      <th>1</th>\n",
       "      <td>201567</td>\n",
       "      <td>Love</td>\n",
       "      <td>Kevin</td>\n",
       "      <td>0.0</td>\n",
       "      <td>F</td>\n",
       "      <td>1.610613e+09</td>\n",
       "      <td>36.68877</td>\n",
       "      <td>24.80455</td>\n",
       "      <td>0.0</td>\n",
       "      <td>720.0</td>\n",
       "      <td>24.0</td>\n",
       "      <td>1</td>\n",
       "      <td>2</td>\n",
       "    </tr>\n",
       "    <tr>\n",
       "      <th>2</th>\n",
       "      <td>201567</td>\n",
       "      <td>Love</td>\n",
       "      <td>Kevin</td>\n",
       "      <td>0.0</td>\n",
       "      <td>F</td>\n",
       "      <td>1.610613e+09</td>\n",
       "      <td>36.69438</td>\n",
       "      <td>24.79715</td>\n",
       "      <td>0.0</td>\n",
       "      <td>720.0</td>\n",
       "      <td>24.0</td>\n",
       "      <td>1</td>\n",
       "      <td>2</td>\n",
       "    </tr>\n",
       "    <tr>\n",
       "      <th>3</th>\n",
       "      <td>201567</td>\n",
       "      <td>Love</td>\n",
       "      <td>Kevin</td>\n",
       "      <td>0.0</td>\n",
       "      <td>F</td>\n",
       "      <td>1.610613e+09</td>\n",
       "      <td>36.69438</td>\n",
       "      <td>24.79715</td>\n",
       "      <td>0.0</td>\n",
       "      <td>720.0</td>\n",
       "      <td>24.0</td>\n",
       "      <td>1</td>\n",
       "      <td>1</td>\n",
       "    </tr>\n",
       "    <tr>\n",
       "      <th>4</th>\n",
       "      <td>201567</td>\n",
       "      <td>Love</td>\n",
       "      <td>Kevin</td>\n",
       "      <td>0.0</td>\n",
       "      <td>F</td>\n",
       "      <td>1.610613e+09</td>\n",
       "      <td>36.70210</td>\n",
       "      <td>24.78821</td>\n",
       "      <td>0.0</td>\n",
       "      <td>720.0</td>\n",
       "      <td>24.0</td>\n",
       "      <td>1</td>\n",
       "      <td>1</td>\n",
       "    </tr>\n",
       "    <tr>\n",
       "      <th>5</th>\n",
       "      <td>201567</td>\n",
       "      <td>Love</td>\n",
       "      <td>Kevin</td>\n",
       "      <td>0.0</td>\n",
       "      <td>F</td>\n",
       "      <td>1.610613e+09</td>\n",
       "      <td>36.70210</td>\n",
       "      <td>24.78821</td>\n",
       "      <td>0.0</td>\n",
       "      <td>720.0</td>\n",
       "      <td>24.0</td>\n",
       "      <td>1</td>\n",
       "      <td>2</td>\n",
       "    </tr>\n",
       "    <tr>\n",
       "      <th>6</th>\n",
       "      <td>201567</td>\n",
       "      <td>Love</td>\n",
       "      <td>Kevin</td>\n",
       "      <td>0.0</td>\n",
       "      <td>F</td>\n",
       "      <td>1.610613e+09</td>\n",
       "      <td>36.70866</td>\n",
       "      <td>24.77443</td>\n",
       "      <td>0.0</td>\n",
       "      <td>720.0</td>\n",
       "      <td>24.0</td>\n",
       "      <td>1</td>\n",
       "      <td>1</td>\n",
       "    </tr>\n",
       "    <tr>\n",
       "      <th>7</th>\n",
       "      <td>201567</td>\n",
       "      <td>Love</td>\n",
       "      <td>Kevin</td>\n",
       "      <td>0.0</td>\n",
       "      <td>F</td>\n",
       "      <td>1.610613e+09</td>\n",
       "      <td>36.70866</td>\n",
       "      <td>24.77443</td>\n",
       "      <td>0.0</td>\n",
       "      <td>720.0</td>\n",
       "      <td>24.0</td>\n",
       "      <td>1</td>\n",
       "      <td>2</td>\n",
       "    </tr>\n",
       "    <tr>\n",
       "      <th>8</th>\n",
       "      <td>201567</td>\n",
       "      <td>Love</td>\n",
       "      <td>Kevin</td>\n",
       "      <td>0.0</td>\n",
       "      <td>F</td>\n",
       "      <td>1.610613e+09</td>\n",
       "      <td>36.71597</td>\n",
       "      <td>24.75551</td>\n",
       "      <td>0.0</td>\n",
       "      <td>720.0</td>\n",
       "      <td>24.0</td>\n",
       "      <td>1</td>\n",
       "      <td>1</td>\n",
       "    </tr>\n",
       "    <tr>\n",
       "      <th>9</th>\n",
       "      <td>201567</td>\n",
       "      <td>Love</td>\n",
       "      <td>Kevin</td>\n",
       "      <td>0.0</td>\n",
       "      <td>F</td>\n",
       "      <td>1.610613e+09</td>\n",
       "      <td>36.71597</td>\n",
       "      <td>24.75551</td>\n",
       "      <td>0.0</td>\n",
       "      <td>720.0</td>\n",
       "      <td>24.0</td>\n",
       "      <td>1</td>\n",
       "      <td>2</td>\n",
       "    </tr>\n",
       "  </tbody>\n",
       "</table>\n",
       "</div>"
      ],
      "text/plain": [
       "   player_id lastname firstname  jersey position       team_id     x_loc  \\\n",
       "0     201567     Love     Kevin     0.0        F  1.610613e+09  36.68877   \n",
       "1     201567     Love     Kevin     0.0        F  1.610613e+09  36.68877   \n",
       "2     201567     Love     Kevin     0.0        F  1.610613e+09  36.69438   \n",
       "3     201567     Love     Kevin     0.0        F  1.610613e+09  36.69438   \n",
       "4     201567     Love     Kevin     0.0        F  1.610613e+09  36.70210   \n",
       "5     201567     Love     Kevin     0.0        F  1.610613e+09  36.70210   \n",
       "6     201567     Love     Kevin     0.0        F  1.610613e+09  36.70866   \n",
       "7     201567     Love     Kevin     0.0        F  1.610613e+09  36.70866   \n",
       "8     201567     Love     Kevin     0.0        F  1.610613e+09  36.71597   \n",
       "9     201567     Love     Kevin     0.0        F  1.610613e+09  36.71597   \n",
       "\n",
       "      y_loc  radius  game_clock  shot_clock  quarter  event.id  \n",
       "0  24.80455     0.0       720.0        24.0        1         1  \n",
       "1  24.80455     0.0       720.0        24.0        1         2  \n",
       "2  24.79715     0.0       720.0        24.0        1         2  \n",
       "3  24.79715     0.0       720.0        24.0        1         1  \n",
       "4  24.78821     0.0       720.0        24.0        1         1  \n",
       "5  24.78821     0.0       720.0        24.0        1         2  \n",
       "6  24.77443     0.0       720.0        24.0        1         1  \n",
       "7  24.77443     0.0       720.0        24.0        1         2  \n",
       "8  24.75551     0.0       720.0        24.0        1         1  \n",
       "9  24.75551     0.0       720.0        24.0        1         2  "
      ]
     },
     "execution_count": 12,
     "metadata": {},
     "output_type": "execute_result"
    }
   ],
   "source": [
    "match[0:10]"
   ]
  },
  {
   "cell_type": "code",
   "execution_count": 24,
   "metadata": {
    "collapsed": false
   },
   "outputs": [
    {
     "data": {
      "text/plain": [
       "[<matplotlib.lines.Line2D at 0x11686bac8>]"
      ]
     },
     "execution_count": 24,
     "metadata": {},
     "output_type": "execute_result"
    },
    {
     "data": {
      "image/png": "[encoded data removed]",
      "text/plain": [
       "<matplotlib.figure.Figure at 0x115553d68>"
      ]
     },
     "metadata": {},
     "output_type": "display_data"
    }
   ],
   "source": [
    "t = np.arange(1,len(match),1000)\n",
    "plt.plot(t, match['game_clock'][t])"
   ]
  },
  {
   "cell_type": "code",
   "execution_count": 6,
   "metadata": {
    "collapsed": false
   },
   "outputs": [
    {
     "name": "stdout",
     "output_type": "stream",
     "text": [
      "[master e487e5b] visualize NBA match process\n",
      " 1 file changed, 289 insertions(+)\n",
      " create mode 100644 NBAanalysis/VisualizeNBAmatch.ipynb\n",
      "Counting objects: 4, done.\n",
      "Delta compression using up to 4 threads.\n",
      "Compressing objects: 100% (4/4), done.\n",
      "Writing objects: 100% (4/4), 1.50 KiB | 0 bytes/s, done.\n",
      "Total 4 (delta 1), reused 0 (delta 0)\n",
      "remote: Resolving deltas: 100% (1/1), completed with 1 local objects.\u001b[K\n",
      "To https://github.com/daigo0927/pyworks\n",
      "   d86ae43..e487e5b  master -> master\n"
     ]
    }
   ],
   "source": [
    "! git add VisualizeNBAmatch.ipynb\n",
    "! git commit -m 'visualize NBA match process'\n",
    "! git push"
   ]
  }
 ],
 "metadata": {
  "kernelspec": {
   "display_name": "Python [Root]",
   "language": "python",
   "name": "Python [Root]"
  },
  "language_info": {
   "codemirror_mode": {
    "name": "ipython",
    "version": 3
   },
   "file_extension": ".py",
   "mimetype": "text/x-python",
   "name": "python",
   "nbconvert_exporter": "python",
   "pygments_lexer": "ipython3",
   "version": "3.5.2"
  }
 },
 "nbformat": 4,
 "nbformat_minor": 0
}
